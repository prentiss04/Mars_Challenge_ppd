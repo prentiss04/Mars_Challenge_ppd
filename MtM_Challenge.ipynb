{
 "cells": [
  {
   "cell_type": "code",
   "execution_count": 1,
   "metadata": {},
   "outputs": [],
   "source": [
    "# Import Splinter and BeautifulSoup\n",
    "from splinter import Browser\n",
    "from bs4 import BeautifulSoup\n",
    "import pandas as pd\n",
    "import re"
   ]
  },
  {
   "cell_type": "code",
   "execution_count": 2,
   "metadata": {},
   "outputs": [],
   "source": [
    "# Set the executable path and initialize the chrome browsewr in splinter\n",
    "executable_path = {'executable_path': 'chromedriver'}\n",
    "browser = Browser('chrome', **executable_path)"
   ]
  },
  {
   "cell_type": "markdown",
   "metadata": {},
   "source": [
    "## Images"
   ]
  },
  {
   "cell_type": "code",
   "execution_count": 14,
   "metadata": {},
   "outputs": [],
   "source": [
    "hemi_list = []\n",
    "hemi_new_list =[]"
   ]
  },
  {
   "cell_type": "code",
   "execution_count": 15,
   "metadata": {},
   "outputs": [
    {
     "name": "stdout",
     "output_type": "stream",
     "text": [
      "Cerberus Hemisphere Enhanced\n",
      "/search/map/Mars/Viking/cerberus_enhanced\n",
      "https://astrogeology.usgs.gov/search/map/Mars/Viking/cerberus_enhanced\n",
      "0\n",
      "0\n",
      "None\n",
      "<splinter.driver.webdriver.WebDriverElement object at 0x000002C4BE2A85F8>\n",
      "http://astropedia.astrogeology.usgs.gov/download/Mars/Viking/cerberus_enhanced.tif/full.jpg\n",
      "{'Cerberus Hemisphere Enhanced': 'http://astropedia.astrogeology.usgs.gov/download/Mars/Viking/cerberus_enhanced.tif/full.jpg'}\n",
      "[{'Cerberus Hemisphere Enhanced': 'http://astropedia.astrogeology.usgs.gov/download/Mars/Viking/cerberus_enhanced.tif/full.jpg'}]\n",
      "{'Title': 'Cerberus Hemisphere Enhanced', 'Image': 'http://astropedia.astrogeology.usgs.gov/download/Mars/Viking/cerberus_enhanced.tif/full.jpg'}\n",
      "[{'Title': 'Cerberus Hemisphere Enhanced', 'Image': 'http://astropedia.astrogeology.usgs.gov/download/Mars/Viking/cerberus_enhanced.tif/full.jpg'}]\n",
      "Schiaparelli Hemisphere Enhanced\n",
      "/search/map/Mars/Viking/schiaparelli_enhanced\n",
      "https://astrogeology.usgs.gov/search/map/Mars/Viking/schiaparelli_enhanced\n",
      "1\n",
      "1\n",
      "None\n",
      "<splinter.driver.webdriver.WebDriverElement object at 0x000002C4BD29AE10>\n",
      "http://astropedia.astrogeology.usgs.gov/download/Mars/Viking/schiaparelli_enhanced.tif/full.jpg\n",
      "{'Schiaparelli Hemisphere Enhanced': 'http://astropedia.astrogeology.usgs.gov/download/Mars/Viking/schiaparelli_enhanced.tif/full.jpg'}\n",
      "[{'Cerberus Hemisphere Enhanced': 'http://astropedia.astrogeology.usgs.gov/download/Mars/Viking/cerberus_enhanced.tif/full.jpg'}, {'Schiaparelli Hemisphere Enhanced': 'http://astropedia.astrogeology.usgs.gov/download/Mars/Viking/schiaparelli_enhanced.tif/full.jpg'}]\n",
      "{'Title': 'Schiaparelli Hemisphere Enhanced', 'Image': 'http://astropedia.astrogeology.usgs.gov/download/Mars/Viking/schiaparelli_enhanced.tif/full.jpg'}\n",
      "[{'Title': 'Cerberus Hemisphere Enhanced', 'Image': 'http://astropedia.astrogeology.usgs.gov/download/Mars/Viking/cerberus_enhanced.tif/full.jpg'}, {'Title': 'Schiaparelli Hemisphere Enhanced', 'Image': 'http://astropedia.astrogeology.usgs.gov/download/Mars/Viking/schiaparelli_enhanced.tif/full.jpg'}]\n",
      "Syrtis Major Hemisphere Enhanced\n",
      "/search/map/Mars/Viking/syrtis_major_enhanced\n",
      "https://astrogeology.usgs.gov/search/map/Mars/Viking/syrtis_major_enhanced\n",
      "2\n",
      "2\n",
      "None\n",
      "<splinter.driver.webdriver.WebDriverElement object at 0x000002C4BE2A8470>\n",
      "http://astropedia.astrogeology.usgs.gov/download/Mars/Viking/syrtis_major_enhanced.tif/full.jpg\n",
      "{'Syrtis Major Hemisphere Enhanced': 'http://astropedia.astrogeology.usgs.gov/download/Mars/Viking/syrtis_major_enhanced.tif/full.jpg'}\n",
      "[{'Cerberus Hemisphere Enhanced': 'http://astropedia.astrogeology.usgs.gov/download/Mars/Viking/cerberus_enhanced.tif/full.jpg'}, {'Schiaparelli Hemisphere Enhanced': 'http://astropedia.astrogeology.usgs.gov/download/Mars/Viking/schiaparelli_enhanced.tif/full.jpg'}, {'Syrtis Major Hemisphere Enhanced': 'http://astropedia.astrogeology.usgs.gov/download/Mars/Viking/syrtis_major_enhanced.tif/full.jpg'}]\n",
      "{'Title': 'Syrtis Major Hemisphere Enhanced', 'Image': 'http://astropedia.astrogeology.usgs.gov/download/Mars/Viking/syrtis_major_enhanced.tif/full.jpg'}\n",
      "[{'Title': 'Cerberus Hemisphere Enhanced', 'Image': 'http://astropedia.astrogeology.usgs.gov/download/Mars/Viking/cerberus_enhanced.tif/full.jpg'}, {'Title': 'Schiaparelli Hemisphere Enhanced', 'Image': 'http://astropedia.astrogeology.usgs.gov/download/Mars/Viking/schiaparelli_enhanced.tif/full.jpg'}, {'Title': 'Syrtis Major Hemisphere Enhanced', 'Image': 'http://astropedia.astrogeology.usgs.gov/download/Mars/Viking/syrtis_major_enhanced.tif/full.jpg'}]\n",
      "Valles Marineris Hemisphere Enhanced\n",
      "/search/map/Mars/Viking/valles_marineris_enhanced\n",
      "https://astrogeology.usgs.gov/search/map/Mars/Viking/valles_marineris_enhanced\n",
      "3\n",
      "3\n",
      "None\n",
      "<splinter.driver.webdriver.WebDriverElement object at 0x000002C4BD23F390>\n",
      "http://astropedia.astrogeology.usgs.gov/download/Mars/Viking/valles_marineris_enhanced.tif/full.jpg\n",
      "{'Valles Marineris Hemisphere Enhanced': 'http://astropedia.astrogeology.usgs.gov/download/Mars/Viking/valles_marineris_enhanced.tif/full.jpg'}\n",
      "[{'Cerberus Hemisphere Enhanced': 'http://astropedia.astrogeology.usgs.gov/download/Mars/Viking/cerberus_enhanced.tif/full.jpg'}, {'Schiaparelli Hemisphere Enhanced': 'http://astropedia.astrogeology.usgs.gov/download/Mars/Viking/schiaparelli_enhanced.tif/full.jpg'}, {'Syrtis Major Hemisphere Enhanced': 'http://astropedia.astrogeology.usgs.gov/download/Mars/Viking/syrtis_major_enhanced.tif/full.jpg'}, {'Valles Marineris Hemisphere Enhanced': 'http://astropedia.astrogeology.usgs.gov/download/Mars/Viking/valles_marineris_enhanced.tif/full.jpg'}]\n",
      "{'Title': 'Valles Marineris Hemisphere Enhanced', 'Image': 'http://astropedia.astrogeology.usgs.gov/download/Mars/Viking/valles_marineris_enhanced.tif/full.jpg'}\n",
      "[{'Title': 'Cerberus Hemisphere Enhanced', 'Image': 'http://astropedia.astrogeology.usgs.gov/download/Mars/Viking/cerberus_enhanced.tif/full.jpg'}, {'Title': 'Schiaparelli Hemisphere Enhanced', 'Image': 'http://astropedia.astrogeology.usgs.gov/download/Mars/Viking/schiaparelli_enhanced.tif/full.jpg'}, {'Title': 'Syrtis Major Hemisphere Enhanced', 'Image': 'http://astropedia.astrogeology.usgs.gov/download/Mars/Viking/syrtis_major_enhanced.tif/full.jpg'}, {'Title': 'Valles Marineris Hemisphere Enhanced', 'Image': 'http://astropedia.astrogeology.usgs.gov/download/Mars/Viking/valles_marineris_enhanced.tif/full.jpg'}]\n"
     ]
    }
   ],
   "source": [
    "# create for loop for image scraping\n",
    "\n",
    "# use BS4 to scrape html for hi-res pictures\n",
    "# first use link to cerberus to pull the correct image. Incorporate a wait=2 sec so that page can load\n",
    "# visit the page\n",
    "# Get the hemisphere title with splinter\n",
    "\n",
    "\n",
    "html = browser.html\n",
    "hemi_soup = BeautifulSoup(html, 'html.parser')\n",
    "#url = 'https://astrogeology.usgs.gov/search/results?q=hemisphere+enhanced&k1=target&v1=Mars'\n",
    "#browser.visit(url)\n",
    "    \n",
    "#hemi_titles_list = browser.find_by_css('.description .itemLink')\n",
    "#hemi_title = hemi_titles_list[i].value\n",
    "#print(hemi_titles_list)\n",
    "#print(hemi_title)\n",
    "\n",
    "\n",
    "for i in range (0,4):#(len(hemi_titles_list)):\n",
    "    # visit splash page\n",
    "    #html = browser.html\n",
    "    #hemi_soup = BeautifulSoup(html, 'html.parser')\n",
    "    url = 'https://astrogeology.usgs.gov/search/results?q=hemisphere+enhanced&k1=target&v1=Mars'\n",
    "    browser.visit(url)\n",
    "    \n",
    "    # Get the hemisphere title with splinter\n",
    "    hemi_titles_list = browser.find_by_css('.description .itemLink')\n",
    "    hemi_title = hemi_titles_list[i].value\n",
    "    print(hemi_title)\n",
    "    \n",
    "    # Parse the resulting html with soup\n",
    "    #title_soup = BeautifulSoup(html, 'html.parser')\n",
    "    hemi_ext_links = hemi_soup.select('.description .itemLink', wait_time=2)\n",
    "    hemi_ext_links[i] = hemi_ext_links[i].get(\"href\")\n",
    "    print(hemi_ext_links[i])\n",
    "    \n",
    "    # generate new url and visit page\n",
    "    new_img_url = f'https://astrogeology.usgs.gov{hemi_ext_links[i]}'\n",
    "    print(new_img_url)\n",
    "    browser.visit(new_img_url)\n",
    "    print(i) # remove later\n",
    "    \n",
    "    # scrape site for high-res image\n",
    "    img_soup = BeautifulSoup(html, 'html.parser')\n",
    "    high_res_suffix = img_soup.select_one('img.wide-image')#, wait_time=2)\n",
    "    sample_example = browser.find_link_by_text('Sample').first\n",
    "    print(i) # remove later\n",
    "    print(high_res_suffix)\n",
    "    print(sample_example)\n",
    "    sample_img = sample_example[\"href\"]\n",
    "    print(sample_img)\n",
    "    \n",
    "    hemi_pair = {hemi_title: sample_img}\n",
    "    print(hemi_pair)\n",
    "           \n",
    "    hemi_list.append(dict(hemi_pair))\n",
    "    print(hemi_list)\n",
    "\n",
    "    hemi_real_pair = {'Title': hemi_title, 'Image': sample_img}\n",
    "    print(hemi_real_pair)\n",
    "\n",
    "    hemi_new_list.append(dict(hemi_real_pair))\n",
    "    print(hemi_new_list)"
   ]
  },
  {
   "cell_type": "code",
   "execution_count": 16,
   "metadata": {},
   "outputs": [
    {
     "data": {
      "text/plain": [
       "[{'Cerberus Hemisphere Enhanced': 'http://astropedia.astrogeology.usgs.gov/download/Mars/Viking/cerberus_enhanced.tif/full.jpg'},\n",
       " {'Schiaparelli Hemisphere Enhanced': 'http://astropedia.astrogeology.usgs.gov/download/Mars/Viking/schiaparelli_enhanced.tif/full.jpg'},\n",
       " {'Syrtis Major Hemisphere Enhanced': 'http://astropedia.astrogeology.usgs.gov/download/Mars/Viking/syrtis_major_enhanced.tif/full.jpg'},\n",
       " {'Valles Marineris Hemisphere Enhanced': 'http://astropedia.astrogeology.usgs.gov/download/Mars/Viking/valles_marineris_enhanced.tif/full.jpg'}]"
      ]
     },
     "execution_count": 16,
     "metadata": {},
     "output_type": "execute_result"
    }
   ],
   "source": [
    "hemi_list"
   ]
  },
  {
   "cell_type": "code",
   "execution_count": 18,
   "metadata": {},
   "outputs": [
    {
     "data": {
      "text/plain": [
       "[{'Title': 'Cerberus Hemisphere Enhanced',\n",
       "  'Image': 'http://astropedia.astrogeology.usgs.gov/download/Mars/Viking/cerberus_enhanced.tif/full.jpg'},\n",
       " {'Title': 'Schiaparelli Hemisphere Enhanced',\n",
       "  'Image': 'http://astropedia.astrogeology.usgs.gov/download/Mars/Viking/schiaparelli_enhanced.tif/full.jpg'},\n",
       " {'Title': 'Syrtis Major Hemisphere Enhanced',\n",
       "  'Image': 'http://astropedia.astrogeology.usgs.gov/download/Mars/Viking/syrtis_major_enhanced.tif/full.jpg'},\n",
       " {'Title': 'Valles Marineris Hemisphere Enhanced',\n",
       "  'Image': 'http://astropedia.astrogeology.usgs.gov/download/Mars/Viking/valles_marineris_enhanced.tif/full.jpg'}]"
      ]
     },
     "execution_count": 18,
     "metadata": {},
     "output_type": "execute_result"
    }
   ],
   "source": [
    "hemi_new_list"
   ]
  },
  {
   "cell_type": "code",
   "execution_count": 20,
   "metadata": {},
   "outputs": [
    {
     "data": {
      "text/plain": [
       "['Cerberus Hemisphere Enhanced',\n",
       " 'Schiaparelli Hemisphere Enhanced',\n",
       " 'Syrtis Major Hemisphere Enhanced',\n",
       " 'Valles Marineris Hemisphere Enhanced']"
      ]
     },
     "execution_count": 20,
     "metadata": {},
     "output_type": "execute_result"
    }
   ],
   "source": [
    "title_list = [i['Title'] for i in hemi_new_list]\n",
    "title_list"
   ]
  },
  {
   "cell_type": "code",
   "execution_count": 21,
   "metadata": {},
   "outputs": [
    {
     "data": {
      "text/plain": [
       "'Cerberus Hemisphere Enhanced'"
      ]
     },
     "execution_count": 21,
     "metadata": {},
     "output_type": "execute_result"
    }
   ],
   "source": [
    "title_list[0]"
   ]
  },
  {
   "cell_type": "code",
   "execution_count": 37,
   "metadata": {},
   "outputs": [
    {
     "name": "stdout",
     "output_type": "stream",
     "text": [
      "Cerberus Hemisphere Enhanced\n",
      "http://astropedia.astrogeology.usgs.gov/download/Mars/Viking/cerberus_enhanced.tif/full.jpg\n",
      "\n",
      "Schiaparelli Hemisphere Enhanced\n",
      "http://astropedia.astrogeology.usgs.gov/download/Mars/Viking/schiaparelli_enhanced.tif/full.jpg\n",
      "\n",
      "Syrtis Major Hemisphere Enhanced\n",
      "http://astropedia.astrogeology.usgs.gov/download/Mars/Viking/syrtis_major_enhanced.tif/full.jpg\n",
      "\n",
      "Valles Marineris Hemisphere Enhanced\n",
      "http://astropedia.astrogeology.usgs.gov/download/Mars/Viking/valles_marineris_enhanced.tif/full.jpg\n",
      "\n"
     ]
    }
   ],
   "source": [
    "for i in range (0,4):\n",
    "    #print(hemi_new_list[i])\n",
    "    print(hemi_new_list[i]['Title'])\n",
    "    print(hemi_new_list[i]['Image'])\n",
    "    print(\"\")"
   ]
  },
  {
   "cell_type": "code",
   "execution_count": null,
   "metadata": {},
   "outputs": [],
   "source": [
    "# Set the mars nasa news site\n",
    "url = 'https://astrogeology.usgs.gov/search/results?q=hemisphere+enhanced&k1=target&v1=Mars'\n",
    "browser.visit(url)\n",
    "# Optional delay for loading the page\n",
    "#browser.is_element_present_by_css(\"ul.item_list li.slide\", wait_time=1)"
   ]
  },
  {
   "cell_type": "code",
   "execution_count": null,
   "metadata": {},
   "outputs": [],
   "source": [
    "# Parse the resulting html with soup\n",
    "html = browser.html\n",
    "hemi_soup = BeautifulSoup(html, 'html.parser')"
   ]
  },
  {
   "cell_type": "code",
   "execution_count": null,
   "metadata": {},
   "outputs": [],
   "source": [
    "hemi_url_rel = hemi_soup.select_one('.description .itemLink').get(\"href\")"
   ]
  },
  {
   "cell_type": "code",
   "execution_count": null,
   "metadata": {},
   "outputs": [],
   "source": [
    "hemi_url_rel"
   ]
  },
  {
   "cell_type": "code",
   "execution_count": null,
   "metadata": {},
   "outputs": [],
   "source": [
    "# Use the base URL to create an absolute URL\n",
    "img_url = f'https://astrogeology.usgs.gov{hemi_url_rel}'\n",
    "img_url"
   ]
  },
  {
   "cell_type": "code",
   "execution_count": null,
   "metadata": {},
   "outputs": [],
   "source": [
    "hemi_ext_links = hemi_soup.select('.description .itemLink')\n"
   ]
  },
  {
   "cell_type": "code",
   "execution_count": null,
   "metadata": {},
   "outputs": [],
   "source": [
    "hemi_ext_links"
   ]
  },
  {
   "cell_type": "code",
   "execution_count": null,
   "metadata": {},
   "outputs": [],
   "source": [
    "type(hemi_ext_links)"
   ]
  },
  {
   "cell_type": "code",
   "execution_count": null,
   "metadata": {},
   "outputs": [],
   "source": [
    "hemi_ext_links[0] = hemi_ext_links[0].get(\"href\")"
   ]
  },
  {
   "cell_type": "code",
   "execution_count": null,
   "metadata": {},
   "outputs": [],
   "source": [
    "hemi_ext_links[1] = hemi_ext_links[1].get(\"href\")"
   ]
  },
  {
   "cell_type": "code",
   "execution_count": null,
   "metadata": {},
   "outputs": [],
   "source": [
    "hemi_ext_links[2] = hemi_ext_links[2].get(\"href\")"
   ]
  },
  {
   "cell_type": "code",
   "execution_count": null,
   "metadata": {},
   "outputs": [],
   "source": [
    "hemi_ext_links[3] = hemi_ext_links[3].get(\"href\")"
   ]
  },
  {
   "cell_type": "code",
   "execution_count": null,
   "metadata": {},
   "outputs": [],
   "source": [
    "hemi_ext_links"
   ]
  },
  {
   "cell_type": "code",
   "execution_count": null,
   "metadata": {},
   "outputs": [],
   "source": [
    "\n",
    "# Use the base URL to create an absolute URL\n",
    "for i in range (0,4):\n",
    "    #print(hemi_ext_links[i])\n",
    "    new_img_url = f'https://astrogeology.usgs.gov{hemi_ext_links[i]}'\n",
    "    print(new_img_url)\n"
   ]
  },
  {
   "cell_type": "code",
   "execution_count": null,
   "metadata": {},
   "outputs": [],
   "source": [
    "# use BS4 to scrape html for hi-res pictures\n",
    "# first use link to cerberus to pull the correct image. Incorporate a wait=1 sec so that page can load\n",
    "# visit the page\n",
    "cerb = 'https://astrogeology.usgs.gov/search/map/Mars/Viking/cerberus_enhanced'\n",
    "browser.visit(cerb)\n",
    "\n",
    "# parse the html with soup\n",
    "html = browser.html\n",
    "img_soup = BeautifulSoup(html, 'html.parser')\n",
    "\n",
    "# Find the relative image url\n",
    "cerb_high_res = img_soup.select_one('img.wide-image')\n",
    "cerb_url_tail = cerb_high_res.get(\"src\")\n",
    "cerb_url_tail\n",
    "\n",
    "# Create absolute url\n",
    "cerb_url = f'https://astrogeology.usgs.gov/search/map/Mars/Viking/cerberus_enhanced{cerb_url_tail}'\n",
    "cerb_url"
   ]
  },
  {
   "cell_type": "code",
   "execution_count": null,
   "metadata": {},
   "outputs": [],
   "source": []
  },
  {
   "cell_type": "code",
   "execution_count": null,
   "metadata": {},
   "outputs": [],
   "source": [
    "# go through list to retrieve href extensions\n",
    "\n",
    "for i in hemi_ext_links:\n",
    "    print(hemi_ext_links[i])\n",
    "    #hemi_ext_links[i].get(\"href\")"
   ]
  },
  {
   "cell_type": "code",
   "execution_count": null,
   "metadata": {},
   "outputs": [],
   "source": [
    "#hemi_soup.find_all(href=True)        #('.description .itemLink')#.get(\"href\")"
   ]
  },
  {
   "cell_type": "code",
   "execution_count": null,
   "metadata": {},
   "outputs": [],
   "source": []
  },
  {
   "cell_type": "code",
   "execution_count": null,
   "metadata": {},
   "outputs": [],
   "source": []
  },
  {
   "cell_type": "markdown",
   "metadata": {},
   "source": [
    "visit the hemi splash page <br/>\n",
    "click through the first hemi to visit the enhanced page 0 <br/>\n",
    "parse the html to locate the image <br/>\n",
    "save to the db <br/>\n",
    "return to the hemi splash page <br/>\n",
    "\n",
    "click to the second hemi to visit the enhanced page 1 <br/>\n",
    "parse the html to locate the image <br/>\n",
    "save to the db <br/>\n",
    "return to the hemi splash page <br/>\n",
    "\n",
    "click to the third hemi to visit the enhanced page 2 <br/>\n",
    "parse the html to locate the image <br/>\n",
    "save to the db <br/>\n",
    "return to the hemi splash page <br/>\n",
    "\n",
    "click to the fourth hemi to visit the enhanced page 3 <br/>\n",
    "parse the html to locate the image <br/>\n",
    "save to the db <br/>\n",
    "return to the hemi splash page <br/>\n"
   ]
  },
  {
   "cell_type": "code",
   "execution_count": null,
   "metadata": {},
   "outputs": [],
   "source": [
    "hemi_image_hemi = browser.find_link_by_partial_text('Hemisphere')\n",
    "hemi_image_hemi\n",
    "    "
   ]
  },
  {
   "cell_type": "code",
   "execution_count": null,
   "metadata": {},
   "outputs": [],
   "source": [
    "# get rid of this\n",
    "#list(hemi_image_hemi)"
   ]
  },
  {
   "cell_type": "code",
   "execution_count": null,
   "metadata": {},
   "outputs": [],
   "source": [
    "hemi_image_hemi[2].click()\n",
    "\n"
   ]
  },
  {
   "cell_type": "code",
   "execution_count": null,
   "metadata": {},
   "outputs": [],
   "source": [
    "html = browser.html"
   ]
  },
  {
   "cell_type": "code",
   "execution_count": null,
   "metadata": {},
   "outputs": [],
   "source": [
    "browser.back()"
   ]
  },
  {
   "cell_type": "code",
   "execution_count": null,
   "metadata": {},
   "outputs": [],
   "source": [
    "# 1. Generate list of hemisphere links with partial_text\n",
    "# 2. click link\n",
    "# 3. retrieve the jpg \n",
    "# 4. run the html = browser.html\n",
    "# 5. browser back\n",
    "# 6. return to step 1 to interate through for 2, 3, 4th hemisphere"
   ]
  },
  {
   "cell_type": "code",
   "execution_count": null,
   "metadata": {},
   "outputs": [],
   "source": [
    "\n",
    "\n",
    "url = 'https://astrogeology.usgs.gov/search/results?q=hemisphere+enhanced&k1=target&v1=Mars'\n",
    "browser.visit(url)\n",
    "\n",
    "hemi_image_hemi = browser.find_link_by_partial_text('Hemisphere')\n",
    "\n",
    "for i in range (0,4):\n",
    "    executable_path = {'executable_path': 'chromedriver'}\n",
    "    browser = Browser('chrome', **executable_path)\n",
    "    html = browser.html\n",
    "    url = 'https://astrogeology.usgs.gov/search/results?q=hemisphere+enhanced&k1=target&v1=Mars'\n",
    "    browser.visit(url)\n",
    "    browser.find_link_by_partial_text('Hemisphere')\n",
    "    #print(hemi_image_hemi)\n",
    "    print(hemi_image_hemi[i])\n",
    "    # error is happening at following line\n",
    "    hemi_image_hemi[i].click()\n",
    "    browser.back()\n",
    "    "
   ]
  },
  {
   "cell_type": "code",
   "execution_count": null,
   "metadata": {},
   "outputs": [],
   "source": [
    "for j in hemi_image_hemi:\n",
    "    print(j)\n",
    "    \n",
    "    try:\n",
    "        j.click()\n",
    "        #html.browser\n",
    "    \n",
    "    except: \n",
    "        print(\"not found\")\n",
    "        pass\n",
    "    "
   ]
  },
  {
   "cell_type": "code",
   "execution_count": null,
   "metadata": {},
   "outputs": [],
   "source": [
    "item_link_try = browser.find_by_tag('a.itemLink')\n",
    "item_link_try"
   ]
  },
  {
   "cell_type": "code",
   "execution_count": null,
   "metadata": {},
   "outputs": [],
   "source": [
    "list(item_link_try)\n"
   ]
  },
  {
   "cell_type": "code",
   "execution_count": null,
   "metadata": {},
   "outputs": [],
   "source": [
    "# Use the base URL to create an absolute URL\n",
    "full_hemi_0 = f'https://astrogeology.usgs.gov{hemi_image_0}'\n",
    "full_hemi_0"
   ]
  },
  {
   "cell_type": "code",
   "execution_count": null,
   "metadata": {},
   "outputs": [],
   "source": [
    "# Find and click the fill image button\n",
    "\n",
    "hemi_image_P = browser.find_by_value('Cerberus Hemisphere Enhanced')\n",
    "\n",
    "hemi_image_P"
   ]
  },
  {
   "cell_type": "code",
   "execution_count": null,
   "metadata": {},
   "outputs": [],
   "source": [
    "hemi_image_D = browser.find_link_by_partial_text('Enhanced')\n",
    "\n",
    "#hemi_image_D.click()\n",
    "\n",
    "hemi_image_D.click()"
   ]
  },
  {
   "cell_type": "code",
   "execution_count": null,
   "metadata": {},
   "outputs": [],
   "source": [
    "browser.click_link_by_partial_href('cerberus_enhanced')\n"
   ]
  },
  {
   "cell_type": "code",
   "execution_count": null,
   "metadata": {},
   "outputs": [],
   "source": [
    "browser.find_by_css('.itemLink')[0]"
   ]
  },
  {
   "cell_type": "code",
   "execution_count": null,
   "metadata": {},
   "outputs": [],
   "source": [
    "# Parse the resulting html with soup\n",
    "html = browser.html\n",
    "img_soup = BeautifulSoup(html, 'html.parser')"
   ]
  },
  {
   "cell_type": "code",
   "execution_count": null,
   "metadata": {},
   "outputs": [],
   "source": [
    "# Find the relative image url\n",
    "hemi_url_rel_0 = img_soup.select_one('div.item div.description img')\n",
    "\n",
    "#hemi_url_rel_0"
   ]
  },
  {
   "cell_type": "code",
   "execution_count": null,
   "metadata": {},
   "outputs": [],
   "source": [
    "# Find the relative image url\n",
    "hemi_url_rel_0 = img_soup.click_link_by_partial_text('enhanced')[0]\n",
    "\n",
    "\n",
    "hemi_url_rel_0"
   ]
  },
  {
   "cell_type": "code",
   "execution_count": null,
   "metadata": {},
   "outputs": [],
   "source": [
    "browser.quit"
   ]
  },
  {
   "cell_type": "markdown",
   "metadata": {},
   "source": [
    "## Titles"
   ]
  },
  {
   "cell_type": "code",
   "execution_count": null,
   "metadata": {},
   "outputs": [],
   "source": [
    "# Provides the image title\n",
    "\n",
    "hemi_title_x = browser.find_by_css('.description .itemLink').first.value\n",
    "\n",
    "hemi_title_x"
   ]
  },
  {
   "cell_type": "code",
   "execution_count": null,
   "metadata": {},
   "outputs": [],
   "source": [
    "# Provides the image title\n",
    "\n",
    "hemi_title_x = browser.find_by_css('.description .itemLink').last.value\n",
    "\n",
    "hemi_title_x"
   ]
  },
  {
   "cell_type": "code",
   "execution_count": null,
   "metadata": {},
   "outputs": [],
   "source": [
    "# Provides the image title\n",
    "\n",
    "hemi_title_0 = browser.find_by_css('.description .itemLink')[0].value\n",
    "\n",
    "hemi_title_0"
   ]
  },
  {
   "cell_type": "code",
   "execution_count": null,
   "metadata": {},
   "outputs": [],
   "source": [
    "# Provides the image title\n",
    "\n",
    "hemi_title_1 = browser.find_by_css('.description .itemLink')[1].value\n",
    "\n",
    "hemi_title_1"
   ]
  },
  {
   "cell_type": "code",
   "execution_count": null,
   "metadata": {},
   "outputs": [],
   "source": [
    "# Provides the image title\n",
    "\n",
    "hemi_title_2 = browser.find_by_css('.description .itemLink')[2].value\n",
    "\n",
    "hemi_title_2"
   ]
  },
  {
   "cell_type": "code",
   "execution_count": null,
   "metadata": {},
   "outputs": [],
   "source": [
    "# Provides the image title\n",
    "\n",
    "hemi_title_3 = browser.find_by_css('.description .itemLink')[3].value\n",
    "\n",
    "hemi_title_3"
   ]
  },
  {
   "cell_type": "code",
   "execution_count": null,
   "metadata": {},
   "outputs": [],
   "source": [
    "# Create loop for Title list\n",
    "\n",
    "hemi_titles = browser.find_by_css('.description .itemLink')\n",
    "hemi_titles"
   ]
  },
  {
   "cell_type": "code",
   "execution_count": null,
   "metadata": {},
   "outputs": [],
   "source": [
    "\n",
    "# Use the base URL to create an absolute URL\n",
    "for i in range (0,4):\n",
    "    #print(hemi_titles[i])\n",
    "    title_list = hemi_titles[i].value\n",
    "    print(title_list)"
   ]
  },
  {
   "cell_type": "markdown",
   "metadata": {},
   "source": [
    "# Trash code"
   ]
  },
  {
   "cell_type": "code",
   "execution_count": null,
   "metadata": {},
   "outputs": [],
   "source": []
  },
  {
   "cell_type": "code",
   "execution_count": null,
   "metadata": {},
   "outputs": [],
   "source": [
    "# Find and click the fill image button\n",
    "\n",
    "hemi_image_pd = browser.find_link_by_partial_href('_enhanced')\n",
    "hemi_image_pd\n",
    "#hemi_image_0.click()"
   ]
  },
  {
   "cell_type": "code",
   "execution_count": null,
   "metadata": {},
   "outputs": [],
   "source": [
    "list(hemi_image_pd)"
   ]
  },
  {
   "cell_type": "code",
   "execution_count": null,
   "metadata": {},
   "outputs": [],
   "source": [
    "hemi_image_pd = hemi_image_pd[1::2]\n"
   ]
  },
  {
   "cell_type": "code",
   "execution_count": null,
   "metadata": {},
   "outputs": [],
   "source": [
    "for i in range (0,4):\n",
    "    print(i)\n",
    "        \n",
    "    try:\n",
    "        print(hemi_image_pd[i])\n",
    "        hemi_image_pd[i].click()\n",
    "        # here is what I need to scrape the high-res page for the image\n",
    "        print(hemi_image_pd[i])\n",
    "        browser.back()\n",
    "        print(hemi_image_pd[i])\n",
    "        #html.browser\n",
    "    \n",
    "    except: \n",
    "        print(\"not found\")\n",
    "        pass\n",
    "\n",
    "    \n",
    "# Code is going from splash page to Cerb page and returning with browser.back, and it's not jumping to the \"not found\"\n",
    "# However the second link is not working even though I'm on the splash page. \n",
    "\n",
    "# Observation: the object identifiers are unique and are a new set of random nums/letter each time I re-run the cell.\n",
    "# Question: if the identifiers are unique, is it possible that these regenerate when I go \"back\"? \n",
    "# If so, then I'll need to generate the \"list\" each time BUT also skip the previously run interval each time"
   ]
  },
  {
   "cell_type": "code",
   "execution_count": null,
   "metadata": {},
   "outputs": [],
   "source": [
    "hemi_image_na = browser.find_by_css('.description .itemLink')"
   ]
  },
  {
   "cell_type": "code",
   "execution_count": null,
   "metadata": {},
   "outputs": [],
   "source": [
    "list(hemi_image_na)"
   ]
  },
  {
   "cell_type": "code",
   "execution_count": null,
   "metadata": {},
   "outputs": [],
   "source": [
    "for i in range (0,4):\n",
    "    print(i)\n",
    "        \n",
    "    try:\n",
    "        print(hemi_image_na[i])\n",
    "        hemi_image_na[i].click()\n",
    "        # here is what I need to scrape the high-res page for the image\n",
    "        print(hemi_image_na[i])\n",
    "        browser.back()\n",
    "        print(hemi_image_na[i])\n",
    "        #html.browser\n",
    "    \n",
    "    except: \n",
    "        print(\"not found\")\n",
    "        pass\n",
    "\n",
    "    \n",
    "# Code is going from splash page to Cerb page and returning with browser.back, and it's not jumping to the \"not found\"\n",
    "# However the second link is not working even though I'm on the splash page. \n",
    "\n",
    "# Observation: the object identifiers are unique and are a new set of random nums/letter each time I re-run the cell.\n",
    "# Question: if the identifiers are unique, is it possible that these regenerate when I go \"back\"? \n",
    "# If so, then I'll need to generate the \"list\" each time BUT also skip the previously run interval each time"
   ]
  }
 ],
 "metadata": {
  "kernelspec": {
   "display_name": "PythonData",
   "language": "python",
   "name": "pythondata"
  },
  "language_info": {
   "codemirror_mode": {
    "name": "ipython",
    "version": 3
   },
   "file_extension": ".py",
   "mimetype": "text/x-python",
   "name": "python",
   "nbconvert_exporter": "python",
   "pygments_lexer": "ipython3",
   "version": "3.7.3"
  }
 },
 "nbformat": 4,
 "nbformat_minor": 2
}
